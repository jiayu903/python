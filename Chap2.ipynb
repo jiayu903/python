{
  "nbformat": 4,
  "nbformat_minor": 0,
  "metadata": {
    "colab": {
      "name": "Chap2.ipynb",
      "provenance": [],
      "collapsed_sections": []
    },
    "kernelspec": {
      "name": "python3",
      "display_name": "Python 3"
    },
    "language_info": {
      "name": "python"
    }
  },
  "cells": [
    {
      "cell_type": "markdown",
      "source": [
        "\n",
        "#Chap2 控制流程\n"
      ],
      "metadata": {
        "id": "exE6yE2uPO65"
      }
    },
    {
      "cell_type": "markdown",
      "source": [
        "## if else , elif\n"
      ],
      "metadata": {
        "id": "plxygpQFPefj"
      }
    },
    {
      "cell_type": "code",
      "execution_count": null,
      "metadata": {
        "colab": {
          "base_uri": "https://localhost:8080/"
        },
        "id": "ExX2XulGPKn4",
        "outputId": "2757f895-a14e-4fc4-e0fc-d16869950362"
      },
      "outputs": [
        {
          "output_type": "stream",
          "name": "stdout",
          "text": [
            "請輸入數字a:5\n",
            "請輸入數字b:5\n",
            "a=b\n"
          ]
        }
      ],
      "source": [
        "a=eval(input(\"請輸入數字a:\")) #eval函數可執行方式:小數,整數...\n",
        "b=eval(input(\"請輸入數字b:\"))\n",
        "if a > b :\n",
        "  print(\"a>b\") #執行程式一定要\"縮排\"使用 Tab鍵 或 空白鍵\n",
        "elif a==b:     #elif = else if \n",
        "  print(\"a=b\")\n",
        "else:\n",
        "  print(\"b>a\")"
      ]
    },
    {
      "cell_type": "markdown",
      "source": [
        "###成績評鑑"
      ],
      "metadata": {
        "id": "974mMKklS94M"
      }
    },
    {
      "cell_type": "code",
      "source": [
        "grade=87\n",
        "print(\"成績評鑑:\")\n",
        "if grade >= 90:\n",
        "    print(\"優等\")\n",
        "elif grade >= 80:\n",
        "    print(\"甲等\")\n",
        "elif grade >= 70:\n",
        "    print(\"乙等\")\n",
        "elif grade >= 60:\n",
        "    print(\"丙等\")\n",
        "else:\n",
        "    print(\"不及格\")"
      ],
      "metadata": {
        "colab": {
          "base_uri": "https://localhost:8080/"
        },
        "id": "mRlvNHTlVbNJ",
        "outputId": "171ac692-85be-4aae-dd4e-a59991feb257"
      },
      "execution_count": null,
      "outputs": [
        {
          "output_type": "stream",
          "name": "stdout",
          "text": [
            "成績評鑑:\n",
            "甲等\n"
          ]
        }
      ]
    },
    {
      "cell_type": "markdown",
      "source": [
        "##for 迴圈"
      ],
      "metadata": {
        "id": "3I1BEWKtXkrd"
      }
    },
    {
      "cell_type": "code",
      "source": [
        "for i in range(10): #基礎版 range(10): 0, 1, 2,...9\n",
        "  print(i)      #range()函數可創建一個整數列表,一般用在for迴圈中"
      ],
      "metadata": {
        "colab": {
          "base_uri": "https://localhost:8080/"
        },
        "id": "4ILEpsrcbqb4",
        "outputId": "8cbbf0fd-d548-454d-f1c6-ecc19c26713d"
      },
      "execution_count": null,
      "outputs": [
        {
          "output_type": "stream",
          "name": "stdout",
          "text": [
            "0\n",
            "1\n",
            "2\n",
            "3\n",
            "4\n",
            "5\n",
            "6\n",
            "7\n",
            "8\n",
            "9\n"
          ]
        }
      ]
    },
    {
      "cell_type": "code",
      "source": [
        "for i  in  range(0,10,1): #進階版 range(0開始, 9結束(不包含10),每次進1步)\n",
        "  print(i)          #range(start起始值，end最終值，step間隔值)"
      ],
      "metadata": {
        "colab": {
          "base_uri": "https://localhost:8080/"
        },
        "id": "GT-XFJrFbyWq",
        "outputId": "9813e4cf-3eb1-49b9-82e4-860b0a68cd73"
      },
      "execution_count": null,
      "outputs": [
        {
          "output_type": "stream",
          "name": "stdout",
          "text": [
            "0\n",
            "1\n",
            "2\n",
            "3\n",
            "4\n",
            "5\n",
            "6\n",
            "7\n",
            "8\n",
            "9\n"
          ]
        }
      ]
    },
    {
      "cell_type": "code",
      "source": [
        "#求1+2+3+...+10的總和\n",
        "sum=0\n",
        "for count in range(1,11,1): #從1開始，不包含11,間隔1\n",
        "  sum += count #sum = sum + count\n",
        "\n",
        "print(\"1+2+3+...+10 =\",sum)"
      ],
      "metadata": {
        "colab": {
          "base_uri": "https://localhost:8080/"
        },
        "id": "cO9O7JKQeplB",
        "outputId": "8eeee045-759e-47a4-b220-c1819b06897e"
      },
      "execution_count": null,
      "outputs": [
        {
          "output_type": "stream",
          "name": "stdout",
          "text": [
            "1+2+3+...+10 = 55\n"
          ]
        }
      ]
    },
    {
      "cell_type": "code",
      "source": [
        "for k in \"I am a student\":\n",
        "  print(k)"
      ],
      "metadata": {
        "colab": {
          "base_uri": "https://localhost:8080/"
        },
        "id": "_GkvYinLe-yZ",
        "outputId": "1b80a953-5b41-4fb5-e4a9-7f065b16c36a"
      },
      "execution_count": null,
      "outputs": [
        {
          "output_type": "stream",
          "name": "stdout",
          "text": [
            "I\n",
            " \n",
            "a\n",
            "m\n",
            " \n",
            "a\n",
            " \n",
            "s\n",
            "t\n",
            "u\n",
            "d\n",
            "e\n",
            "n\n",
            "t\n"
          ]
        }
      ]
    },
    {
      "cell_type": "code",
      "source": [
        "for score in [90,88,77,100]:\n",
        "  print(score)"
      ],
      "metadata": {
        "colab": {
          "base_uri": "https://localhost:8080/"
        },
        "id": "zNZNeO_khgfj",
        "outputId": "53c77f0a-53c0-4d89-c9ff-03ceb94dd204"
      },
      "execution_count": null,
      "outputs": [
        {
          "output_type": "stream",
          "name": "stdout",
          "text": [
            "90\n",
            "88\n",
            "77\n",
            "100\n"
          ]
        }
      ]
    },
    {
      "cell_type": "code",
      "source": [
        "for n in [\"tina\",\"cindy\",\"mary\",\"betty\"]: \n",
        "  print(n)"
      ],
      "metadata": {
        "colab": {
          "base_uri": "https://localhost:8080/"
        },
        "id": "Dr-q17jFh0bD",
        "outputId": "57322d68-208a-4b1d-f0f3-baa2cce2de08"
      },
      "execution_count": null,
      "outputs": [
        {
          "output_type": "stream",
          "name": "stdout",
          "text": [
            "tina\n",
            "cindy\n",
            "mary\n",
            "betty\n"
          ]
        }
      ]
    },
    {
      "cell_type": "markdown",
      "source": [
        "# 雞兔同籠，若共有35個頭，94隻腳，請問有幾隻雞?幾隻兔?"
      ],
      "metadata": {
        "id": "fhLKgwehkMeD"
      }
    },
    {
      "cell_type": "code",
      "source": [
        "for chicken in range(0,36):\n",
        "    rabbit=35-chicken\n",
        "    if (2*chicken+4*rabbit) == 94:\n",
        "        print(\"雞有\",chicken,\"隻,兔子有\",rabbit,\"隻\")\n",
        "        break\n",
        "else:\n",
        "    print(\"無解\")"
      ],
      "metadata": {
        "id": "cGd3PoQniIiJ"
      },
      "execution_count": null,
      "outputs": []
    },
    {
      "cell_type": "markdown",
      "source": [
        "##while迴圈"
      ],
      "metadata": {
        "id": "U8VyVFFNkahR"
      }
    },
    {
      "cell_type": "code",
      "source": [
        "i=1\n",
        "sum=0\n",
        "while i<11:\n",
        "  sum=sum+i\n",
        "  i+=1\n",
        "\n",
        "print(\"1+2+3+...+10=\",sum)"
      ],
      "metadata": {
        "colab": {
          "base_uri": "https://localhost:8080/"
        },
        "id": "k53XAy9nkTxZ",
        "outputId": "c5f05fca-fe6f-45c6-a827-443fa8981522"
      },
      "execution_count": null,
      "outputs": [
        {
          "output_type": "stream",
          "name": "stdout",
          "text": [
            "1+2+3+...+10= 55\n"
          ]
        }
      ]
    }
  ]
}