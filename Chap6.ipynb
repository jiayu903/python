{
  "nbformat": 4,
  "nbformat_minor": 0,
  "metadata": {
    "colab": {
      "name": "Chap6.ipynb",
      "provenance": [],
      "collapsed_sections": []
    },
    "kernelspec": {
      "name": "python3",
      "display_name": "Python 3"
    },
    "language_info": {
      "name": "python"
    }
  },
  "cells": [
    {
      "cell_type": "markdown",
      "source": [
        "###Chap 6檔案處理\n",
        "* os套件：用來處理文件與目錄，與檔案相關操作\n",
        "\n",
        "\n"
      ],
      "metadata": {
        "id": "7jJVCYrJgCi9"
      }
    },
    {
      "cell_type": "code",
      "execution_count": 1,
      "metadata": {
        "colab": {
          "base_uri": "https://localhost:8080/"
        },
        "id": "IMXD3NN9f0py",
        "outputId": "54491f4c-470a-440c-b4be-c32d93935cf3"
      },
      "outputs": [
        {
          "output_type": "stream",
          "name": "stdout",
          "text": [
            "/content\n"
          ]
        }
      ],
      "source": [
        "import os\n",
        "print(os.getcwd()) #獲取目前的工作目錄"
      ]
    },
    {
      "cell_type": "code",
      "source": [
        "print(os.listdir()) #顯示目前目錄下所有檔案子目錄"
      ],
      "metadata": {
        "colab": {
          "base_uri": "https://localhost:8080/"
        },
        "id": "4Wc6XGubgwBe",
        "outputId": "06098419-deb7-4d1d-c7b9-0c9b270b43b6"
      },
      "execution_count": 2,
      "outputs": [
        {
          "output_type": "stream",
          "name": "stdout",
          "text": [
            "['.config', 'sample_data']\n"
          ]
        }
      ]
    },
    {
      "cell_type": "code",
      "source": [
        "os.makedirs(\"test\")  #在目前目錄下,建立一個名為\"test\"的目錄\n",
        "os.listdir()"
      ],
      "metadata": {
        "colab": {
          "base_uri": "https://localhost:8080/"
        },
        "id": "_oMU_pMErb40",
        "outputId": "30241213-8aa3-46f4-c80d-56ec91d82238"
      },
      "execution_count": 3,
      "outputs": [
        {
          "output_type": "execute_result",
          "data": {
            "text/plain": [
              "['.config', 'test', 'sample_data']"
            ]
          },
          "metadata": {},
          "execution_count": 3
        }
      ]
    },
    {
      "cell_type": "code",
      "source": [
        "#新增目錄\n",
        "os.makedirs(\"test123\") \n",
        "os.listdir(\".\")"
      ],
      "metadata": {
        "colab": {
          "base_uri": "https://localhost:8080/"
        },
        "id": "JdHlt1myuu4g",
        "outputId": "005566db-79ac-4b3a-99c3-54598f918ba0"
      },
      "execution_count": 7,
      "outputs": [
        {
          "output_type": "execute_result",
          "data": {
            "text/plain": [
              "['.config', 'test1', 'test123', 'test', 'sample_data']"
            ]
          },
          "metadata": {},
          "execution_count": 7
        }
      ]
    },
    {
      "cell_type": "code",
      "source": [
        "#移除目錄\n",
        "os.rmdir(\"test\")\n",
        "os.listdir()"
      ],
      "metadata": {
        "colab": {
          "base_uri": "https://localhost:8080/"
        },
        "id": "5h3gk3RTi2sj",
        "outputId": "0712526b-5bee-4723-d495-2b235c5f9d23"
      },
      "execution_count": 8,
      "outputs": [
        {
          "output_type": "execute_result",
          "data": {
            "text/plain": [
              "['.config', 'test1', 'test123', 'sample_data']"
            ]
          },
          "metadata": {},
          "execution_count": 8
        }
      ]
    },
    {
      "cell_type": "markdown",
      "source": [
        "###檔案開啟跟寫入\n",
        "os套件有自己的開啟檔案函式，但是**MTA認證採用的是python內建的open**\n",
        "\n",
        "- w = 可寫(預設建立檔案) 若檔案存在則會清除舊檔案\n",
        "- w+ = 可寫可讀(預設建立檔案) 若檔案存在則會清除舊檔案\n",
        "- r = 可讀\n",
        "- r+ = 可寫可讀 但寫入資料指向開頭\n",
        "- a = 可寫不能讀 寫入資料指向尾端\n",
        "- a+ = 可寫可讀 寫入資料指向尾端\n",
        "- b = 轉為2進位文件\n",
        "- ab+ = 2進位文件的讀寫 寫入資料指向尾端"
      ],
      "metadata": {
        "id": "g-PnDmPkrFLV"
      }
    },
    {
      "cell_type": "code",
      "source": [
        "#a=open() #python內建開檔\n",
        "#a=os.open() #os套件開檔"
      ],
      "metadata": {
        "id": "l3_xgEGa7Lp0"
      },
      "execution_count": null,
      "outputs": []
    },
    {
      "cell_type": "markdown",
      "source": [
        "###新增檔案"
      ],
      "metadata": {
        "id": "faOjzxN751XC"
      }
    },
    {
      "cell_type": "code",
      "source": [
        "a=open(\"a.txt\",\"w\") #寫檔\n",
        "a.write(\"This is a test1\")\n",
        "a.write(\"This is a test2\\n\") #\\n換行\n",
        "a.write(\"This is a test3\\n\")\n",
        "a.close() #離開執行區塊前，記得呼叫close()把buffer裡命令寫入#關閉檔案"
      ],
      "metadata": {
        "id": "VnVkAa66rTgI"
      },
      "execution_count": 13,
      "outputs": []
    },
    {
      "cell_type": "markdown",
      "source": [
        "####檢查檔案是否存在"
      ],
      "metadata": {
        "id": "Eavw_DfQ6D2w"
      }
    },
    {
      "cell_type": "code",
      "source": [
        "os.path.isfile(\"a.txt\") #true存在;fales不存在"
      ],
      "metadata": {
        "colab": {
          "base_uri": "https://localhost:8080/"
        },
        "id": "caXrQ6O0uDfS",
        "outputId": "339c07d4-fce0-4dca-85f8-0e77e9c36c2b"
      },
      "execution_count": 14,
      "outputs": [
        {
          "output_type": "execute_result",
          "data": {
            "text/plain": [
              "True"
            ]
          },
          "metadata": {},
          "execution_count": 14
        }
      ]
    },
    {
      "cell_type": "markdown",
      "source": [
        "###讀取檔案"
      ],
      "metadata": {
        "id": "Cys9Q-Pd6Nub"
      }
    },
    {
      "cell_type": "code",
      "source": [
        "a=open(\"a.txt\",\"r\") #讀檔\n",
        "print(a.readline()) #readline()一次讀取一行\n",
        "print(a.readline())\n",
        "a.close() #離開程式，記得close"
      ],
      "metadata": {
        "colab": {
          "base_uri": "https://localhost:8080/"
        },
        "id": "UE-Ie3ZN6Vlh",
        "outputId": "10a8e475-546f-4ae6-8d6b-552cf2b49e2f"
      },
      "execution_count": 15,
      "outputs": [
        {
          "output_type": "stream",
          "name": "stdout",
          "text": [
            "This is a test1This is a test2\n",
            "\n",
            "This is a test3\n",
            "\n"
          ]
        }
      ]
    },
    {
      "cell_type": "markdown",
      "source": [
        "###加上檔案是否存在的判斷"
      ],
      "metadata": {
        "id": "WYnMzBr441vX"
      }
    },
    {
      "cell_type": "code",
      "source": [
        "if os.path.isfile(\"a.txt\"):\n",
        "    a=open(\"a.txt\",\"r\") #readline()一次讀取一行\n",
        "    print(a.readline()) \n",
        "    print(a.readline())\n",
        "    a.close()\n",
        "else:\n",
        "    print(\"檔案不存在\")"
      ],
      "metadata": {
        "colab": {
          "base_uri": "https://localhost:8080/"
        },
        "id": "2U6NIqcO9uxk",
        "outputId": "189a7d2f-4ef2-4102-b310-6f1ace5937fd"
      },
      "execution_count": 16,
      "outputs": [
        {
          "output_type": "stream",
          "name": "stdout",
          "text": [
            "This is a test1This is a test2\n",
            "\n",
            "This is a test3\n",
            "\n"
          ]
        }
      ]
    },
    {
      "cell_type": "code",
      "source": [
        "if os.path.isfile(\"a.txt\"):\n",
        "    a=open(\"a.txt\",\"r\")#readline()一次讀取一行\n",
        "    print(a.readlines()) \n",
        "    a.close()\n",
        "else:\n",
        "    print(\"檔案不存在\")"
      ],
      "metadata": {
        "colab": {
          "base_uri": "https://localhost:8080/"
        },
        "id": "J1mgMrLrzm0X",
        "outputId": "cfb81e85-8644-4738-8dff-ec0e5203a45e"
      },
      "execution_count": 18,
      "outputs": [
        {
          "output_type": "stream",
          "name": "stdout",
          "text": [
            "['This is a test1This is a test2\\n', 'This is a test3\\n']\n"
          ]
        }
      ]
    },
    {
      "cell_type": "markdown",
      "source": [
        "### split函式"
      ],
      "metadata": {
        "id": "8Z5IErBa_hkf"
      }
    },
    {
      "cell_type": "code",
      "source": [
        "if os.path.isfile(\"a.txt\"):\n",
        "    a=open(\"a.txt\",\"r\")\n",
        "    for line in a:  #一行一行讀取a檔案\n",
        "        print(line.split(\" \")) #根據\" \"(空白)切割每一行\n",
        "    a.close()\n",
        "else:\n",
        "    print(\"檔案不存在\")"
      ],
      "metadata": {
        "colab": {
          "base_uri": "https://localhost:8080/"
        },
        "id": "kGRJDCKQ9__Q",
        "outputId": "63329e43-a3df-4c07-c20d-5754daf1eb30"
      },
      "execution_count": 19,
      "outputs": [
        {
          "output_type": "stream",
          "name": "stdout",
          "text": [
            "['This', 'is', 'a', 'test1This', 'is', 'a', 'test2\\n']\n",
            "['This', 'is', 'a', 'test3\\n']\n"
          ]
        }
      ]
    },
    {
      "cell_type": "markdown",
      "source": [
        "###附加檔案"
      ],
      "metadata": {
        "id": "7Nc8YX7pyCBB"
      }
    },
    {
      "cell_type": "code",
      "source": [
        "a=open(\"a.txt\",\"a\")\n",
        "a.write(\"This is a test4\\n\")\n",
        "a.close()"
      ],
      "metadata": {
        "id": "sOQXHkuKyGzF"
      },
      "execution_count": 20,
      "outputs": []
    },
    {
      "cell_type": "code",
      "source": [
        "a=open(\"a.txt\",\"r\")\n",
        "print(a.readlines()) #一次讀取多行，與a.read()命令相同\n",
        "a.close()"
      ],
      "metadata": {
        "colab": {
          "base_uri": "https://localhost:8080/"
        },
        "id": "ltNT8GwHyXe8",
        "outputId": "cf584b16-1aea-45ad-d991-5338b9ee31d7"
      },
      "execution_count": 21,
      "outputs": [
        {
          "output_type": "stream",
          "name": "stdout",
          "text": [
            "['This is a test1This is a test2\\n', 'This is a test3\\n', 'This is a test4\\n']\n"
          ]
        }
      ]
    },
    {
      "cell_type": "markdown",
      "source": [
        "### 比較a與r+的不同\n",
        "* a寫在檔案的結尾\n",
        "* r+寫在檔案的開頭"
      ],
      "metadata": {
        "id": "1zHD5sz4AHUG"
      }
    },
    {
      "cell_type": "code",
      "source": [
        "a=open(\"a.txt\",\"r+\")\n",
        "a.write(\"This is a test5\\n\")\n",
        "a.close()"
      ],
      "metadata": {
        "id": "MwScw31ByjuI"
      },
      "execution_count": 22,
      "outputs": []
    },
    {
      "cell_type": "code",
      "source": [
        "a=open(\"a.txt\",\"r\")\n",
        "print(a.readlines())\n",
        "a.close()"
      ],
      "metadata": {
        "colab": {
          "base_uri": "https://localhost:8080/"
        },
        "id": "GcOQgJOgzQ8w",
        "outputId": "b2696646-e334-4db1-9703-85fdc63bcdbc"
      },
      "execution_count": null,
      "outputs": [
        {
          "output_type": "stream",
          "name": "stdout",
          "text": [
            "['This is a test5\\n', 'his is a test2\\n', 'This is a test3\\n', 'This is a test\\n']\n"
          ]
        }
      ]
    },
    {
      "cell_type": "code",
      "source": [
        "#刪除檔案\n",
        "os.remove(\"a.txt\")"
      ],
      "metadata": {
        "id": "4mbQiTjpzdu2"
      },
      "execution_count": 23,
      "outputs": []
    },
    {
      "cell_type": "markdown",
      "source": [
        "###刪除檔案"
      ],
      "metadata": {
        "id": "1EwH7vAM4N4I"
      }
    },
    {
      "cell_type": "code",
      "source": [
        "if os.path.isfile(\"a.txt\"):\n",
        "    os.remove(\"a.txt\")\n",
        "    print(\"檔案刪除成功\")\n",
        "else:\n",
        "    print(\"找不到檔案\")\n",
        "print(os.path.isfile(\"a.txt\"))"
      ],
      "metadata": {
        "colab": {
          "base_uri": "https://localhost:8080/"
        },
        "id": "XFDxcWpg2YGb",
        "outputId": "3857e851-ae10-4b7f-b3b4-fe6bc317d3f9"
      },
      "execution_count": 24,
      "outputs": [
        {
          "output_type": "stream",
          "name": "stdout",
          "text": [
            "找不到檔案\n",
            "False\n"
          ]
        }
      ]
    },
    {
      "cell_type": "code",
      "source": [
        ""
      ],
      "metadata": {
        "id": "uApDY7532eHo"
      },
      "execution_count": null,
      "outputs": []
    }
  ]
}