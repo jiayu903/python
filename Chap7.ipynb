{
  "nbformat": 4,
  "nbformat_minor": 0,
  "metadata": {
    "colab": {
      "name": "Chap7.ipynb",
      "provenance": [],
      "collapsed_sections": []
    },
    "kernelspec": {
      "name": "python3",
      "display_name": "Python 3"
    },
    "language_info": {
      "name": "python"
    }
  },
  "cells": [
    {
      "cell_type": "markdown",
      "source": [
        "# 錯誤處理\n",
        "try:<br>\n",
        "程式碼<br>\n",
        "except:<br>\n",
        "例外的時候處理動作<br>\n",
        "else:<br>\n",
        "當沒有進入例外(程式正確)的處理動作<br>\n",
        "finally:<br>\n",
        "不管正確例外，都會執行的動作"
      ],
      "metadata": {
        "id": "CJmJ49a8wLUi"
      }
    },
    {
      "cell_type": "code",
      "source": [
        "a=10\n",
        "b=20\n",
        "if a<b:\n",
        "  print(n)"
      ],
      "metadata": {
        "colab": {
          "base_uri": "https://localhost:8080/",
          "height": 201
        },
        "id": "3u4E1Wo51K0S",
        "outputId": "42bbb6e5-73b7-474a-f6af-34f15bc222eb"
      },
      "execution_count": null,
      "outputs": [
        {
          "output_type": "error",
          "ename": "NameError",
          "evalue": "ignored",
          "traceback": [
            "\u001b[0;31m---------------------------------------------------------------------------\u001b[0m",
            "\u001b[0;31mNameError\u001b[0m                                 Traceback (most recent call last)",
            "\u001b[0;32m<ipython-input-2-609ab5985554>\u001b[0m in \u001b[0;36m<module>\u001b[0;34m()\u001b[0m\n\u001b[1;32m      2\u001b[0m \u001b[0mb\u001b[0m\u001b[0;34m=\u001b[0m\u001b[0;36m20\u001b[0m\u001b[0;34m\u001b[0m\u001b[0;34m\u001b[0m\u001b[0m\n\u001b[1;32m      3\u001b[0m \u001b[0;32mif\u001b[0m \u001b[0ma\u001b[0m\u001b[0;34m<\u001b[0m\u001b[0mb\u001b[0m\u001b[0;34m:\u001b[0m\u001b[0;34m\u001b[0m\u001b[0;34m\u001b[0m\u001b[0m\n\u001b[0;32m----> 4\u001b[0;31m   \u001b[0mprint\u001b[0m\u001b[0;34m(\u001b[0m\u001b[0mn\u001b[0m\u001b[0;34m)\u001b[0m\u001b[0;34m\u001b[0m\u001b[0;34m\u001b[0m\u001b[0m\n\u001b[0m",
            "\u001b[0;31mNameError\u001b[0m: name 'n' is not defined"
          ]
        }
      ]
    },
    {
      "cell_type": "code",
      "source": [
        "a=10\n",
        "b=20\n",
        "try:\n",
        "  if a<b:\n",
        "    print(n)\n",
        "except:\n",
        "  print(\"錯誤產生\")"
      ],
      "metadata": {
        "colab": {
          "base_uri": "https://localhost:8080/"
        },
        "id": "vCrQQ0H01qmk",
        "outputId": "c62ff2b9-d119-4381-867b-34f92d0f27d2"
      },
      "execution_count": null,
      "outputs": [
        {
          "output_type": "stream",
          "name": "stdout",
          "text": [
            "錯誤產生\n"
          ]
        }
      ]
    },
    {
      "cell_type": "markdown",
      "source": [
        "###指定錯誤類別處理"
      ],
      "metadata": {
        "id": "f_3wsVbU2AYg"
      }
    },
    {
      "cell_type": "code",
      "source": [
        "a=10\n",
        "b=20\n",
        "try:\n",
        "  if a<b:\n",
        "    print(n)\n",
        "except NameError as e:\n",
        "  print(\"錯誤產生，錯誤原因:\",e)\n",
        "except ZeroDivisionError:\n",
        "    print(\"除以0錯誤\")\n"
      ],
      "metadata": {
        "colab": {
          "base_uri": "https://localhost:8080/"
        },
        "id": "kwhJdrx82QGU",
        "outputId": "854c7e2f-f786-4c70-ca4f-acfc1caaae23"
      },
      "execution_count": null,
      "outputs": [
        {
          "output_type": "stream",
          "name": "stdout",
          "text": [
            "錯誤產生，錯誤原因: name 'n' is not defined\n"
          ]
        }
      ]
    },
    {
      "cell_type": "markdown",
      "source": [
        "###else\n",
        "沒有錯誤產生沒有錯誤產生會執行的部分\n"
      ],
      "metadata": {
        "id": "QxtzTdv33Tdc"
      }
    },
    {
      "cell_type": "code",
      "source": [
        "a=10\n",
        "b=20\n",
        "try:\n",
        "  if a>b: #改變比較條件，讓錯誤不發生\n",
        "    print(n)\n",
        "except:\n",
        "    print(\"錯誤發生\")\n",
        "else:\n",
        "    print(\"沒有錯誤發生時會執行的部分\")"
      ],
      "metadata": {
        "colab": {
          "base_uri": "https://localhost:8080/"
        },
        "id": "g5A5eCEI35Jg",
        "outputId": "db15ac8e-1167-45e5-f6fc-560c2673d49a"
      },
      "execution_count": null,
      "outputs": [
        {
          "output_type": "stream",
          "name": "stdout",
          "text": [
            "沒有錯誤發生時會執行的部分\n"
          ]
        }
      ]
    },
    {
      "cell_type": "code",
      "execution_count": null,
      "metadata": {
        "colab": {
          "base_uri": "https://localhost:8080/"
        },
        "id": "dj5JG18TwFFz",
        "outputId": "4e137805-fef6-45fa-9a89-bfb0737574a4"
      },
      "outputs": [
        {
          "output_type": "stream",
          "name": "stdout",
          "text": [
            "NameError錯誤產生\n",
            "不管程式正確錯誤都會執行的部分\n"
          ]
        }
      ],
      "source": [
        "try:\n",
        "  a=10\n",
        "  b=20\n",
        "  if a<b:\n",
        "    print(n)\n",
        "except NameError:\n",
        "  print(\"NameError錯誤產生\")\n",
        "except:\n",
        "  print(\"其他錯誤產生\")\n",
        "else:\n",
        "  print(\"沒有任何錯誤產生\")\n",
        "finally:\n",
        "  print(\"不管程式正確錯誤都會執行的部分\")"
      ]
    }
  ]
}