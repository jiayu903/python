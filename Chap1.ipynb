{
  "nbformat": 4,
  "nbformat_minor": 0,
  "metadata": {
    "colab": {
      "name": "Chap1.ipynb",
      "provenance": [],
      "collapsed_sections": []
    },
    "kernelspec": {
      "name": "python3",
      "display_name": "Python 3"
    },
    "language_info": {
      "name": "python"
    }
  },
  "cells": [
    {
      "cell_type": "markdown",
      "source": [
        "# chap 1 運算式、變數與資料型別\n",
        "## 註解"
      ],
      "metadata": {
        "id": "zKbmJUEJDq4u"
      }
    },
    {
      "cell_type": "code",
      "execution_count": null,
      "metadata": {
        "id": "c5-zLzIhCYAe",
        "colab": {
          "base_uri": "https://localhost:8080/"
        },
        "outputId": "f81eaab7-2719-4c16-998e-de627fa02b3d"
      },
      "outputs": [
        {
          "output_type": "stream",
          "name": "stdout",
          "text": [
            "8\n"
          ]
        }
      ],
      "source": [
        "a=5 #這是單行註解\n",
        "b=3\n",
        "print(a+b)\n"
      ]
    },
    {
      "cell_type": "code",
      "source": [
        "'''\n",
        "這是多行註解\n",
        "這是多行註解\n",
        "'''\n",
        "a=5 \n",
        "b=3\n",
        "print(a+b)"
      ],
      "metadata": {
        "colab": {
          "base_uri": "https://localhost:8080/"
        },
        "id": "oMsLKUrOEWUF",
        "outputId": "ed0b9c21-9419-4734-cba8-bc8c28933351"
      },
      "execution_count": null,
      "outputs": [
        {
          "output_type": "stream",
          "name": "stdout",
          "text": [
            "8\n"
          ]
        }
      ]
    },
    {
      "cell_type": "markdown",
      "source": [
        "## 運算式"
      ],
      "metadata": {
        "id": "A1E2zkLJE121"
      }
    },
    {
      "cell_type": "code",
      "source": [
        "a=5\n",
        "b=3\n",
        "# 透過第三變數c,交換a,b的值\n",
        "c=a\n",
        "a=b\n",
        "b=c\n",
        "print(a)\n",
        "print(b)"
      ],
      "metadata": {
        "colab": {
          "base_uri": "https://localhost:8080/"
        },
        "id": "cxoNP813Eyr2",
        "outputId": "bad462f8-a002-48e1-ffb1-3fd66bc473ca"
      },
      "execution_count": null,
      "outputs": [
        {
          "output_type": "stream",
          "name": "stdout",
          "text": [
            "3\n",
            "5\n"
          ]
        }
      ]
    },
    {
      "cell_type": "code",
      "source": [
        "# 不透過第三變數,交換a,b的值\n",
        "a=5\n",
        "b=3\n",
        "a=a+b\n",
        "b=a-b\n",
        "a=a-b\n",
        "print(a)\n",
        "print(b)"
      ],
      "metadata": {
        "colab": {
          "base_uri": "https://localhost:8080/"
        },
        "id": "FrcOBw65I56U",
        "outputId": "2115ad04-c4e1-40e0-ae60-f653e88f5d75"
      },
      "execution_count": null,
      "outputs": [
        {
          "output_type": "stream",
          "name": "stdout",
          "text": [
            "3\n",
            "5\n"
          ]
        }
      ]
    },
    {
      "cell_type": "code",
      "source": [
        "# Python版本的變數交換\n",
        "a=5\n",
        "b=3\n",
        "a,b=b,a\n",
        "print(a)\n",
        "print(b)"
      ],
      "metadata": {
        "colab": {
          "base_uri": "https://localhost:8080/"
        },
        "id": "5zmjXVKbJVEy",
        "outputId": "593c1c1c-21cc-4ae0-dfc8-413989e1188b"
      },
      "execution_count": null,
      "outputs": [
        {
          "output_type": "stream",
          "name": "stdout",
          "text": [
            "3\n",
            "5\n"
          ]
        }
      ]
    },
    {
      "cell_type": "markdown",
      "source": [
        "## 變數\n",
        "### 變數的平行設定"
      ],
      "metadata": {
        "id": "4teHaS7oJwTe"
      }
    },
    {
      "cell_type": "code",
      "source": [
        "x, y, z = 3, 4, 5\n",
        "print(x,y,z)"
      ],
      "metadata": {
        "colab": {
          "base_uri": "https://localhost:8080/"
        },
        "id": "mTpz8nBJQPA0",
        "outputId": "67435b14-fd29-4a66-f8c1-6d52696e2a13"
      },
      "execution_count": null,
      "outputs": [
        {
          "output_type": "stream",
          "name": "stdout",
          "text": [
            "3 4 5\n"
          ]
        }
      ]
    },
    {
      "cell_type": "code",
      "source": [
        "x,y,z = 3,4,5\n",
        "x+=1 #x=x+1\n",
        "y*=2 #y=y*2\n",
        "z**=3 #z=z**3 #**為次方\n",
        "print(x,y,z)\n"
      ],
      "metadata": {
        "colab": {
          "base_uri": "https://localhost:8080/"
        },
        "id": "L6AHq5qSQoUt",
        "outputId": "2ba46368-125f-4c93-f907-864ea3c4afa2"
      },
      "execution_count": null,
      "outputs": [
        {
          "output_type": "stream",
          "name": "stdout",
          "text": [
            "4 8 125\n"
          ]
        }
      ]
    },
    {
      "cell_type": "markdown",
      "source": [
        "### 變數的應用\n",
        "#### Q: 半徑為10的圓形，其面積大小為何?\n"
      ],
      "metadata": {
        "id": "b6F6Gyd3SI4c"
      }
    },
    {
      "cell_type": "code",
      "source": [
        "import math\n",
        "r=10\n",
        "print(r * r * math.pi)"
      ],
      "metadata": {
        "colab": {
          "base_uri": "https://localhost:8080/"
        },
        "id": "jxzUfxTrTP71",
        "outputId": "5accb9b6-047f-4101-de34-daf278e3ccdd"
      },
      "execution_count": null,
      "outputs": [
        {
          "output_type": "stream",
          "name": "stdout",
          "text": [
            "314.1592653589793\n"
          ]
        }
      ]
    },
    {
      "cell_type": "code",
      "source": [
        "import math\n",
        "r=eval(input(\"請輸入圓的半徑:\")) #eval:計算輸入之值\n",
        "print(r * r * math.pi)"
      ],
      "metadata": {
        "colab": {
          "base_uri": "https://localhost:8080/"
        },
        "id": "ogA79P-QVV87",
        "outputId": "5163580c-5d4f-48a9-f462-ecd22f01a041"
      },
      "execution_count": null,
      "outputs": [
        {
          "output_type": "stream",
          "name": "stdout",
          "text": [
            "請輸入圓的半徑:5*2\n",
            "314.1592653589793\n"
          ]
        }
      ]
    },
    {
      "cell_type": "markdown",
      "source": [
        "####Q：請輸入長方形長、寬，其面積大小為何?"
      ],
      "metadata": {
        "id": "mO6YtTU_J7lm"
      }
    },
    {
      "cell_type": "code",
      "source": [
        "import math\n",
        "x=eval(input(\"請輸入長方形的長:\")) # 試著出題\n",
        "y=eval(input(\"請輸入長方形的寬:\"))\n",
        "print(\"長方形面積為:\",x*y)"
      ],
      "metadata": {
        "colab": {
          "base_uri": "https://localhost:8080/"
        },
        "id": "HJ-AeYG_V8KT",
        "outputId": "9eda299c-dfac-4b09-a303-d624a96dde13"
      },
      "execution_count": 2,
      "outputs": [
        {
          "output_type": "stream",
          "name": "stdout",
          "text": [
            "請輸入長方形的長:5\n",
            "請輸入長方形的寬:2\n",
            "長方形面積為: 10\n"
          ]
        }
      ]
    },
    {
      "cell_type": "markdown",
      "source": [
        "####Q：邊長為3, 4, 5的三角形，其面積大小為何?\n",
        "海龍公式：\n",
        "s=(a+b+c)/2\n",
        "sqrt(s(s-a)(s-b)(s-c))"
      ],
      "metadata": {
        "id": "cx9fQ4EEJlFa"
      }
    },
    {
      "cell_type": "code",
      "source": [
        "import math\n",
        "a,b,c=3,4,5\n",
        "s=(a+b+c)/2\n",
        "d=math.sqrt(s*(s-a)*(s-b)*(s-c))\n",
        "print(d)"
      ],
      "metadata": {
        "colab": {
          "base_uri": "https://localhost:8080/"
        },
        "id": "A92l-YSWJuVP",
        "outputId": "a4b97195-1974-4977-a445-a36e26f26321"
      },
      "execution_count": 1,
      "outputs": [
        {
          "output_type": "stream",
          "name": "stdout",
          "text": [
            "6.0\n"
          ]
        }
      ]
    },
    {
      "cell_type": "markdown",
      "source": [
        "## 資料型態\n",
        "#### python屬於動態類型變數，使用前不需要宣告資料型態"
      ],
      "metadata": {
        "id": "W1_5KneOF2Yu"
      }
    },
    {
      "cell_type": "code",
      "source": [
        "x=254\n",
        "print(type(x)) ## int整數\n",
        "y=254.0\n",
        "print(type(y)) ## float浮點數\n",
        "z=\"write\"\n",
        "print(type(z)) ## str字串\n",
        "print(type(x==y)) ## bool布林(true,false)"
      ],
      "metadata": {
        "colab": {
          "base_uri": "https://localhost:8080/"
        },
        "id": "QIXnLqGlF8_L",
        "outputId": "caf51f4e-928a-42f0-e59a-06b4ecbe5c55"
      },
      "execution_count": null,
      "outputs": [
        {
          "output_type": "stream",
          "name": "stdout",
          "text": [
            "<class 'int'>\n",
            "<class 'float'>\n",
            "<class 'str'>\n",
            "<class 'bool'>\n"
          ]
        }
      ]
    },
    {
      "cell_type": "markdown",
      "source": [
        "## 算術符號"
      ],
      "metadata": {
        "id": "KkCVmtDyJA80"
      }
    },
    {
      "cell_type": "code",
      "source": [
        "x=10\n",
        "y=3\n",
        "print(x/y) #求值\n",
        "print(x//y) #求商\n",
        "print(x%y) #求餘數"
      ],
      "metadata": {
        "colab": {
          "base_uri": "https://localhost:8080/"
        },
        "id": "nYsvyxwYJGVD",
        "outputId": "b6010487-9029-40c1-cc2f-3084e834695f"
      },
      "execution_count": null,
      "outputs": [
        {
          "output_type": "stream",
          "name": "stdout",
          "text": [
            "3.3333333333333335\n",
            "3\n",
            "1\n"
          ]
        }
      ]
    },
    {
      "cell_type": "markdown",
      "source": [
        "## 算術符號的優先順序\n",
        "( )括號 > **次方 > * /乘除 > + -加減"
      ],
      "metadata": {
        "id": "HfyQX_PkMgBl"
      }
    },
    {
      "cell_type": "code",
      "source": [
        "x=(5*(1+2)**2-3+4/2)\n",
        "print(x)"
      ],
      "metadata": {
        "colab": {
          "base_uri": "https://localhost:8080/"
        },
        "id": "BrIzbrJYM0Ac",
        "outputId": "1cec72d2-7cb7-42d5-fab7-c7789ee4328a"
      },
      "execution_count": null,
      "outputs": [
        {
          "output_type": "stream",
          "name": "stdout",
          "text": [
            "44.0\n"
          ]
        }
      ]
    },
    {
      "cell_type": "markdown",
      "source": [
        "## 型態轉換"
      ],
      "metadata": {
        "id": "Ae-VV7poSG5P"
      }
    },
    {
      "cell_type": "code",
      "source": [
        "x=\"must\"\n",
        "print(10*x) # must印出10次\n",
        "print(\"10\"+x) # 印出10x\n",
        "print(10,x) # 10 must"
      ],
      "metadata": {
        "colab": {
          "base_uri": "https://localhost:8080/"
        },
        "id": "S_OiL2szSHNe",
        "outputId": "7319170d-b0d2-4c73-b5bf-330cb1dc4bf3"
      },
      "execution_count": null,
      "outputs": [
        {
          "output_type": "stream",
          "name": "stdout",
          "text": [
            "mustmustmustmustmustmustmustmustmustmust\n",
            "10must\n",
            "10 must\n"
          ]
        }
      ]
    },
    {
      "cell_type": "code",
      "source": [
        "x=12\n",
        "print(type(x))\n",
        "y=float(x)+0.5 #強制型別轉換\n",
        "print(type(y))\n",
        "print(y)\n",
        "print(int(y))\n",
        "print(int(\"12\")) #int整數\n",
        "print(float(\"12.5\")) #float浮點數\n",
        "print(eval(\"5.5*2\")) #eval:計算輸入之值"
      ],
      "metadata": {
        "colab": {
          "base_uri": "https://localhost:8080/"
        },
        "id": "vpPzZpcOV9C9",
        "outputId": "385dda18-4391-4497-b79f-f1fd6d4d3091"
      },
      "execution_count": null,
      "outputs": [
        {
          "output_type": "stream",
          "name": "stdout",
          "text": [
            "<class 'int'>\n",
            "<class 'float'>\n",
            "12.5\n",
            "12\n",
            "12\n",
            "12.5\n",
            "11.0\n"
          ]
        }
      ]
    },
    {
      "cell_type": "markdown",
      "source": [
        "##print的三種方式\n",
        "##### 1.透過,區隔要列印的變數eg: print(\"This\",\"is\",\"a\",\"book\")\n",
        "##### 2.利用字串的str.format() (新式)\n",
        "##### 3.%格式化输出字符串 (舊式)"
      ],
      "metadata": {
        "id": "3NhR83nKJ2bB"
      }
    },
    {
      "cell_type": "code",
      "source": [
        "print(\"This\"+\"is\"+\"a\"+\"book\") #字串相加(沒空格)\n",
        "print(\"This\",\"is\",\"a\",\"book\") #有空格\n",
        "print(\"This\")\n",
        "print(\"is\")\n",
        "print(\"a\")\n",
        "print(\"book\")"
      ],
      "metadata": {
        "colab": {
          "base_uri": "https://localhost:8080/"
        },
        "id": "z_744Z5KLdXQ",
        "outputId": "007b6040-be5a-4269-dfcd-1962987c95ee"
      },
      "execution_count": null,
      "outputs": [
        {
          "output_type": "stream",
          "name": "stdout",
          "text": [
            "Thisisabook\n",
            "This is a book\n",
            "This\n",
            "is\n",
            "a\n",
            "book\n"
          ]
        }
      ]
    },
    {
      "cell_type": "markdown",
      "source": [
        "*   利用字串的str.format()，在{ }中替代變數的位置\n",
        "*   eg: print(\"This {} a book\".format(\"is\"))\n",
        "*   {}中可以設定格式\n",
        "*   例如：{0:10} (10個空格，靠左對齊)\n",
        "*   例如：{:,2f} (三個數字用,分隔，小數點後2位數)\n",
        "\n",
        "\n",
        "\n",
        "\n",
        "\n",
        "\n"
      ],
      "metadata": {
        "id": "DcGtOF-CQ9bp"
      }
    },
    {
      "cell_type": "code",
      "source": [
        "print(\"This {} a book\".format(\"is\"))\n",
        "x=123456.7819\n",
        "print(\"{:.2f}\".format(x)) # 小數點.後兩位\n",
        "print(\"{:,.2f}\".format(x)) # ,小數點前三位用\",\"分開   "
      ],
      "metadata": {
        "colab": {
          "base_uri": "https://localhost:8080/"
        },
        "id": "tEMW7CdKMC3H",
        "outputId": "62b66556-8ca1-47e0-eb2f-39fd4f9f21a6"
      },
      "execution_count": null,
      "outputs": [
        {
          "output_type": "stream",
          "name": "stdout",
          "text": [
            "This is a book\n",
            "123456.78\n",
            "123,456.78\n"
          ]
        }
      ]
    },
    {
      "cell_type": "markdown",
      "source": [
        "*   C語言類似的 % 格式\n",
        "*   %s (字串) %d (整數) %f (浮點數)\n",
        "*   %s(字串): %10s (10格靠右對齊，不足的左方補空白), %-10s\n",
        "*   %f(浮點數): %7.3f (總共7個浮點數位數，含一個小數點，以及三個小數點後數字)"
      ],
      "metadata": {
        "id": "IiR-MvzzRglB"
      }
    },
    {
      "cell_type": "code",
      "source": [
        "print(\"This %10s a book%-10s\" % (\"is\",\"!\")) # %s(字串): %10s(10格靠右對齊), %-10s(10格靠左對齊)\n",
        "print(\"%7.3f\" % (687.4333)) # %7.3f: 總共七位數(含小數點), .3f:每三位數用."
      ],
      "metadata": {
        "colab": {
          "base_uri": "https://localhost:8080/"
        },
        "id": "YKbVNcvfOmZH",
        "outputId": "03e9966e-6c1c-4997-8e14-547616b4c771"
      },
      "execution_count": null,
      "outputs": [
        {
          "output_type": "stream",
          "name": "stdout",
          "text": [
            "This         is a book!         \n",
            "687.433\n"
          ]
        }
      ]
    }
  ]
}