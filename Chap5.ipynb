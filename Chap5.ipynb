{
  "nbformat": 4,
  "nbformat_minor": 0,
  "metadata": {
    "colab": {
      "name": "Chap5.ipynb",
      "provenance": [],
      "collapsed_sections": []
    },
    "kernelspec": {
      "name": "python3",
      "display_name": "Python 3"
    },
    "language_info": {
      "name": "python"
    }
  },
  "cells": [
    {
      "cell_type": "markdown",
      "source": [
        "## 函式\n",
        "*  獨立出來的程式組\n",
        "*  可以接收傳入值(多個)\n",
        "*  輸出回傳值(一個)"
      ],
      "metadata": {
        "id": "KV61KYi6ecaU"
      }
    },
    {
      "cell_type": "code",
      "execution_count": 1,
      "metadata": {
        "colab": {
          "base_uri": "https://localhost:8080/"
        },
        "id": "2Cmpq10ueYUA",
        "outputId": "bf94a8ba-d93d-4b48-dc30-a24ab5471318"
      },
      "outputs": [
        {
          "output_type": "stream",
          "name": "stdout",
          "text": [
            "請輸入圓的半徑:10\n",
            "圓的面積為: 314.1592653589793\n"
          ]
        }
      ],
      "source": [
        "# 傳統的寫法\n",
        "import math\n",
        "radius=eval(input(\"請輸入圓的半徑:\")) #把輸入的字串變成數學計算型態\n",
        "print(\"圓的面積為:\",radius * radius * math.pi)"
      ]
    },
    {
      "cell_type": "markdown",
      "source": [
        "##圓面積計算函式"
      ],
      "metadata": {
        "id": "pMcNHUqAhP-5"
      }
    },
    {
      "cell_type": "code",
      "source": [
        "import math\n",
        "def circle_area(radius):  #radius為半徑\n",
        "  area = radius * radius * math.pi #圓面積:半徑 * 半徑 * pi\n",
        "  return area\n",
        "\n",
        "print(\"半徑10,圓面積為:\",circle_area(10))\n",
        "print(\"半徑5,圓面積為:\",circle_area(5))\n",
        "print(\"半徑20,圓面積為:\",circle_area(20))"
      ],
      "metadata": {
        "colab": {
          "base_uri": "https://localhost:8080/"
        },
        "id": "MFIZLy_BfWer",
        "outputId": "aceb6417-1305-4945-ee64-08dcb76233d9"
      },
      "execution_count": 2,
      "outputs": [
        {
          "output_type": "stream",
          "name": "stdout",
          "text": [
            "半徑10,圓面積為: 314.1592653589793\n",
            "半徑5,圓面積為: 78.53981633974483\n",
            "半徑20,圓面積為: 1256.6370614359173\n"
          ]
        }
      ]
    }
  ]
}