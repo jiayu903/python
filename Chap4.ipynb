{
  "nbformat": 4,
  "nbformat_minor": 0,
  "metadata": {
    "colab": {
      "name": "Chap4.ipynb",
      "provenance": [],
      "collapsed_sections": []
    },
    "kernelspec": {
      "name": "python3",
      "display_name": "Python 3"
    },
    "language_info": {
      "name": "python"
    }
  },
  "cells": [
    {
      "cell_type": "markdown",
      "source": [
        "#Chap.4 numpy套件(numeric python)\n",
        "##為什麼需要numpy?\n",
        "numpy由c撰寫，速度快python 10~1000倍以上\n",
        "\n",
        "* numpy儲存結果較正確，python數字儲存不正確\n",
        "* numpy節省記憶體儲存空間\n",
        "* numpy的向量(矩陣計算)速度快\n",
        "* numpy的取值方便"
      ],
      "metadata": {
        "id": "Rw-522pOuMOs"
      }
    },
    {
      "cell_type": "code",
      "execution_count": 11,
      "metadata": {
        "colab": {
          "base_uri": "https://localhost:8080/"
        },
        "id": "zotwpSixt3Cs",
        "outputId": "92d15d4f-17db-4396-8e36-2f3128132766"
      },
      "outputs": [
        {
          "output_type": "stream",
          "name": "stdout",
          "text": [
            "[1, 2, 3, 4, 5, 1, 2, 3, 4, 5, 1, 2, 3, 4, 5]\n"
          ]
        }
      ],
      "source": [
        "a_list=[1,2,3,4,5]\n",
        "print(a_list*3) # a_list 印三次"
      ]
    },
    {
      "cell_type": "code",
      "source": [
        "#numpy套件的ndarray型態,提供element-wise的操作\n",
        "import numpy as np\n",
        "a=np.array([1,2,3,4,5])\n",
        "print(a*3)"
      ],
      "metadata": {
        "colab": {
          "base_uri": "https://localhost:8080/"
        },
        "id": "fXIeDKwkuSO5",
        "outputId": "c2d15038-3e70-4889-f8fa-aa541da04d81"
      },
      "execution_count": 12,
      "outputs": [
        {
          "output_type": "stream",
          "name": "stdout",
          "text": [
            "[ 3  6  9 12 15]\n"
          ]
        }
      ]
    },
    {
      "cell_type": "code",
      "source": [
        "a=np.array([1,2,3,4,5])\n",
        "print(type(a))\n",
        "print(a.shape) #ndaary的形狀\n",
        "print(a.dtype) #資料的型態\n",
        "print(a.ndim) #維度"
      ],
      "metadata": {
        "colab": {
          "base_uri": "https://localhost:8080/"
        },
        "id": "f5yoG9PH4ofJ",
        "outputId": "046e0446-c5f6-43da-8fdc-9732a26b2484"
      },
      "execution_count": 13,
      "outputs": [
        {
          "output_type": "stream",
          "name": "stdout",
          "text": [
            "<class 'numpy.ndarray'>\n",
            "(5,)\n",
            "int64\n",
            "1\n"
          ]
        }
      ]
    },
    {
      "cell_type": "code",
      "source": [
        "import numpy as np\n",
        "z=np.zeros(6)\n",
        "print(z)\n",
        "print(np.empty((2,3,4)))\n",
        "print(np.arange(10))"
      ],
      "metadata": {
        "colab": {
          "base_uri": "https://localhost:8080/"
        },
        "id": "u4pu3CGZ4vBc",
        "outputId": "42866a86-4df0-428b-87ad-83b328017cfc"
      },
      "execution_count": 14,
      "outputs": [
        {
          "output_type": "stream",
          "name": "stdout",
          "text": [
            "[0. 0. 0. 0. 0. 0.]\n",
            "[[[1.10511023e-316 0.00000000e+000 0.00000000e+000 0.00000000e+000]\n",
            "  [0.00000000e+000 0.00000000e+000 0.00000000e+000 0.00000000e+000]\n",
            "  [0.00000000e+000 0.00000000e+000 0.00000000e+000 0.00000000e+000]]\n",
            "\n",
            " [[0.00000000e+000 0.00000000e+000 0.00000000e+000 0.00000000e+000]\n",
            "  [0.00000000e+000 0.00000000e+000 0.00000000e+000 0.00000000e+000]\n",
            "  [0.00000000e+000 0.00000000e+000 0.00000000e+000 0.00000000e+000]]]\n",
            "[0 1 2 3 4 5 6 7 8 9]\n"
          ]
        }
      ]
    },
    {
      "cell_type": "markdown",
      "source": [
        "##ndarray的進階操作"
      ],
      "metadata": {
        "id": "lviVjxgj6ahX"
      }
    },
    {
      "cell_type": "code",
      "source": [
        "import numpy as np\n",
        "a=np.array([0,1,2,3,4])\n",
        "print(a)\n",
        "b=np.arange(5)\n",
        "print(b)"
      ],
      "metadata": {
        "colab": {
          "base_uri": "https://localhost:8080/"
        },
        "id": "5CakRMfc7a0H",
        "outputId": "e9f5ea94-b935-45da-f8ee-fc3ddc0e1f1a"
      },
      "execution_count": 20,
      "outputs": [
        {
          "output_type": "stream",
          "name": "stdout",
          "text": [
            "[0 1 2 3 4]\n",
            "[0 1 2 3 4]\n"
          ]
        }
      ]
    },
    {
      "cell_type": "code",
      "source": [
        "my_array=np.arange(10)\n",
        "print(my_array)\n",
        "print(my_array[0])\n",
        "print(my_array[0:5])"
      ],
      "metadata": {
        "colab": {
          "base_uri": "https://localhost:8080/"
        },
        "id": "SPtdZQVk41K2",
        "outputId": "e78e621d-8e3f-4c52-980b-671da0820ba5"
      },
      "execution_count": 15,
      "outputs": [
        {
          "output_type": "stream",
          "name": "stdout",
          "text": [
            "[0 1 2 3 4 5 6 7 8 9]\n",
            "0\n",
            "[0 1 2 3 4]\n"
          ]
        }
      ]
    },
    {
      "cell_type": "markdown",
      "source": [
        "###2維資料取值"
      ],
      "metadata": {
        "id": "FXQFCV_b6i3H"
      }
    },
    {
      "cell_type": "code",
      "source": [
        "my_2d_array=np.array([np.arange(0,5),np.arange(5,10)])\n",
        "print(my_2d_array)\n",
        "print(my_2d_array[1,:]) #取第\"1\"維的值(所有值)\n",
        "print(my_2d_array[:,1]) #取第\"0\",\"1\"維中，第\"1\"的值\n",
        "print(my_2d_array[1,2])"
      ],
      "metadata": {
        "colab": {
          "base_uri": "https://localhost:8080/"
        },
        "id": "_TJ32Uzv6gpp",
        "outputId": "b062ebbb-353e-410e-f820-931ed2c363d2"
      },
      "execution_count": 22,
      "outputs": [
        {
          "output_type": "stream",
          "name": "stdout",
          "text": [
            "[[0 1 2 3 4]\n",
            " [5 6 7 8 9]]\n",
            "[5 6 7 8 9]\n",
            "[1 6]\n",
            "7\n"
          ]
        }
      ]
    },
    {
      "cell_type": "code",
      "source": [
        "#更改維度reshape\n",
        "a=np.arange(10)  #一維10個數字\n",
        "print(a)  \n",
        "b=a.reshape(2,5)  #更改成二維,每維5個數字\n",
        "print(b)"
      ],
      "metadata": {
        "colab": {
          "base_uri": "https://localhost:8080/"
        },
        "id": "umwcNYvB-es5",
        "outputId": "63c97c62-cb8a-4be5-c486-0763e7fa1ea8"
      },
      "execution_count": 24,
      "outputs": [
        {
          "output_type": "stream",
          "name": "stdout",
          "text": [
            "[0 1 2 3 4 5 6 7 8 9]\n",
            "[[0 1 2 3 4]\n",
            " [5 6 7 8 9]]\n"
          ]
        }
      ]
    },
    {
      "cell_type": "markdown",
      "source": [
        "###numpy的空值nan"
      ],
      "metadata": {
        "id": "rDu94rqO6wWK"
      }
    },
    {
      "cell_type": "code",
      "source": [
        "b=np.array([56, 8, 19, 14, np.nan])\n",
        "print(b)"
      ],
      "metadata": {
        "colab": {
          "base_uri": "https://localhost:8080/"
        },
        "id": "n9EWJuzX6sr_",
        "outputId": "72df69a8-0fa5-44a7-de0b-9580b2c599ff"
      },
      "execution_count": 18,
      "outputs": [
        {
          "output_type": "stream",
          "name": "stdout",
          "text": [
            "[56.  8. 19. 14. nan]\n"
          ]
        }
      ]
    }
  ]
}